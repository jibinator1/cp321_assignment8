{
 "cells": [
  {
   "cell_type": "code",
   "execution_count": null,
   "metadata": {},
   "outputs": [],
   "source": [
    "\"\"\"\n",
    "Deployed Dashboard Link: https://your-deployed-dashboard-link\n",
    "Password (if applicable): your_password\n",
    "\"\"\"\n",
    "import pandas as pd\n",
    "import plotly.express as px\n",
    "from dash import Dash, dcc, html, Input, Output\n",
    "import plotly.graph_objects as go"
   ]
  },
  {
   "cell_type": "code",
   "execution_count": 1,
   "metadata": {},
   "outputs": [
    {
     "ename": "NameError",
     "evalue": "name 'pd' is not defined",
     "output_type": "error",
     "traceback": [
      "\u001b[1;31m---------------------------------------------------------------------------\u001b[0m",
      "\u001b[1;31mNameError\u001b[0m                                 Traceback (most recent call last)",
      "Cell \u001b[1;32mIn[1], line 26\u001b[0m\n\u001b[0;32m      1\u001b[0m data \u001b[38;5;241m=\u001b[39m [\n\u001b[0;32m      2\u001b[0m     {\u001b[38;5;124m'\u001b[39m\u001b[38;5;124mYear\u001b[39m\u001b[38;5;124m'\u001b[39m: \u001b[38;5;241m1930\u001b[39m, \u001b[38;5;124m'\u001b[39m\u001b[38;5;124mHost\u001b[39m\u001b[38;5;124m'\u001b[39m: \u001b[38;5;124m'\u001b[39m\u001b[38;5;124mUruguay\u001b[39m\u001b[38;5;124m'\u001b[39m, \u001b[38;5;124m'\u001b[39m\u001b[38;5;124mWinner\u001b[39m\u001b[38;5;124m'\u001b[39m: \u001b[38;5;124m'\u001b[39m\u001b[38;5;124mUruguay\u001b[39m\u001b[38;5;124m'\u001b[39m, \u001b[38;5;124m'\u001b[39m\u001b[38;5;124mRunner-up\u001b[39m\u001b[38;5;124m'\u001b[39m: \u001b[38;5;124m'\u001b[39m\u001b[38;5;124mArgentina\u001b[39m\u001b[38;5;124m'\u001b[39m},\n\u001b[0;32m      3\u001b[0m     {\u001b[38;5;124m'\u001b[39m\u001b[38;5;124mYear\u001b[39m\u001b[38;5;124m'\u001b[39m: \u001b[38;5;241m1934\u001b[39m, \u001b[38;5;124m'\u001b[39m\u001b[38;5;124mHost\u001b[39m\u001b[38;5;124m'\u001b[39m: \u001b[38;5;124m'\u001b[39m\u001b[38;5;124mItaly\u001b[39m\u001b[38;5;124m'\u001b[39m, \u001b[38;5;124m'\u001b[39m\u001b[38;5;124mWinner\u001b[39m\u001b[38;5;124m'\u001b[39m: \u001b[38;5;124m'\u001b[39m\u001b[38;5;124mItaly\u001b[39m\u001b[38;5;124m'\u001b[39m, \u001b[38;5;124m'\u001b[39m\u001b[38;5;124mRunner-up\u001b[39m\u001b[38;5;124m'\u001b[39m: \u001b[38;5;124m'\u001b[39m\u001b[38;5;124mCzechoslovakia\u001b[39m\u001b[38;5;124m'\u001b[39m},\n\u001b[1;32m   (...)\u001b[0m\n\u001b[0;32m     23\u001b[0m     {\u001b[38;5;124m'\u001b[39m\u001b[38;5;124mYear\u001b[39m\u001b[38;5;124m'\u001b[39m: \u001b[38;5;241m2022\u001b[39m, \u001b[38;5;124m'\u001b[39m\u001b[38;5;124mHost\u001b[39m\u001b[38;5;124m'\u001b[39m: \u001b[38;5;124m'\u001b[39m\u001b[38;5;124mQatar\u001b[39m\u001b[38;5;124m'\u001b[39m, \u001b[38;5;124m'\u001b[39m\u001b[38;5;124mWinner\u001b[39m\u001b[38;5;124m'\u001b[39m: \u001b[38;5;124m'\u001b[39m\u001b[38;5;124mArgentina\u001b[39m\u001b[38;5;124m'\u001b[39m, \u001b[38;5;124m'\u001b[39m\u001b[38;5;124mRunner-up\u001b[39m\u001b[38;5;124m'\u001b[39m: \u001b[38;5;124m'\u001b[39m\u001b[38;5;124mFrance\u001b[39m\u001b[38;5;124m'\u001b[39m},\n\u001b[0;32m     24\u001b[0m ]\u001b[38;5;66;03m#make a list of dictionaries for the year. host winner and runnerup\u001b[39;00m\n\u001b[1;32m---> 26\u001b[0m df \u001b[38;5;241m=\u001b[39m pd\u001b[38;5;241m.\u001b[39mDataFrame(data)\n\u001b[0;32m     27\u001b[0m wins \u001b[38;5;241m=\u001b[39m df[\u001b[38;5;124m'\u001b[39m\u001b[38;5;124mWinner\u001b[39m\u001b[38;5;124m'\u001b[39m]\u001b[38;5;241m.\u001b[39mvalue_counts()\u001b[38;5;241m.\u001b[39mreset_index()\n\u001b[0;32m     28\u001b[0m wins\u001b[38;5;241m.\u001b[39mcolumns \u001b[38;5;241m=\u001b[39m [\u001b[38;5;124m'\u001b[39m\u001b[38;5;124mCountry\u001b[39m\u001b[38;5;124m'\u001b[39m, \u001b[38;5;124m'\u001b[39m\u001b[38;5;124mWins\u001b[39m\u001b[38;5;124m'\u001b[39m]\n",
      "\u001b[1;31mNameError\u001b[0m: name 'pd' is not defined"
     ]
    }
   ],
   "source": [
    "\n",
    "data = [\n",
    "    {'Year': 1930, 'Host': 'Uruguay', 'Winner': 'Uruguay', 'Runner-up': 'Argentina'},\n",
    "    {'Year': 1934, 'Host': 'Italy', 'Winner': 'Italy', 'Runner-up': 'Czechoslovakia'},\n",
    "    {'Year': 1938, 'Host': 'France', 'Winner': 'Italy', 'Runner-up': 'Hungary'},\n",
    "    {'Year': 1950, 'Host': 'Brazil', 'Winner': 'Uruguay', 'Runner-up': 'Brazil'},\n",
    "    {'Year': 1954, 'Host': 'Switzerland', 'Winner': 'Germany', 'Runner-up': 'Hungary'},\n",
    "    {'Year': 1958, 'Host': 'Sweden', 'Winner': 'Brazil', 'Runner-up': 'Sweden'},\n",
    "    {'Year': 1962, 'Host': 'Chile', 'Winner': 'Brazil', 'Runner-up': 'Czechoslovakia'},\n",
    "    {'Year': 1966, 'Host': 'England', 'Winner': 'England', 'Runner-up': 'Germany'},\n",
    "    {'Year': 1970, 'Host': 'Mexico', 'Winner': 'Brazil', 'Runner-up': 'Italy'},\n",
    "    {'Year': 1974, 'Host': 'Germany', 'Winner': 'Germany', 'Runner-up': 'Netherlands'},\n",
    "    {'Year': 1978, 'Host': 'Argentina', 'Winner': 'Argentina', 'Runner-up': 'Netherlands'},\n",
    "    {'Year': 1982, 'Host': 'Spain', 'Winner': 'Italy', 'Runner-up': 'Germany'},\n",
    "    {'Year': 1986, 'Host': 'Mexico', 'Winner': 'Argentina', 'Runner-up': 'Germany'},\n",
    "    {'Year': 1990, 'Host': 'Italy', 'Winner': 'Germany', 'Runner-up': 'Argentina'},\n",
    "    {'Year': 1994, 'Host': 'United States', 'Winner': 'Brazil', 'Runner-up': 'Italy'},\n",
    "    {'Year': 1998, 'Host': 'France', 'Winner': 'France', 'Runner-up': 'Brazil'},\n",
    "    {'Year': 2002, 'Host': 'South Korea/Japan', 'Winner': 'Brazil', 'Runner-up': 'Germany'},\n",
    "    {'Year': 2006, 'Host': 'Germany', 'Winner': 'Italy', 'Runner-up': 'France'},\n",
    "    {'Year': 2010, 'Host': 'South Africa', 'Winner': 'Spain', 'Runner-up': 'Netherlands'},\n",
    "    {'Year': 2014, 'Host': 'Brazil', 'Winner': 'Germany', 'Runner-up': 'Argentina'},\n",
    "    {'Year': 2018, 'Host': 'Russia', 'Winner': 'France', 'Runner-up': 'Croatia'},\n",
    "    {'Year': 2022, 'Host': 'Qatar', 'Winner': 'Argentina', 'Runner-up': 'France'},\n",
    "]#make a list of dictionaries for the year. host winner and runnerup\n",
    "\n",
    "df = pd.DataFrame(data)\n",
    "wins = df['Winner'].value_counts().reset_index()\n",
    "wins.columns = ['Country', 'Wins']\n",
    "wins"
   ]
  },
  {
   "cell_type": "code",
   "execution_count": null,
   "metadata": {},
   "outputs": [
    {
     "data": {
      "text/html": [
       "\n",
       "        <iframe\n",
       "            width=\"100%\"\n",
       "            height=\"650\"\n",
       "            src=\"http://127.0.0.1:8050/\"\n",
       "            frameborder=\"0\"\n",
       "            allowfullscreen\n",
       "            \n",
       "        ></iframe>\n",
       "        "
      ],
      "text/plain": [
       "<IPython.lib.display.IFrame at 0x226280edd00>"
      ]
     },
     "metadata": {},
     "output_type": "display_data"
    }
   ],
   "source": [
    "#initalize dash\n",
    "app = Dash(__name__)\n",
    "\n",
    "#use the wins df to get the locations of the countries, change colour by number of wins, when hovered show the country name,and find hte country by its name  to create a chjoropleth map\n",
    "base_fig = px.choropleth(\n",
    "    wins,\n",
    "    locations=\"Country\",\n",
    "    color=\"Wins\",\n",
    "    hover_name=\"Country\",\n",
    "    locationmode='country names',\n",
    "    color_continuous_scale=px.colors.sequential.Plasma\n",
    ")\n",
    "\n",
    "#title and type of map\n",
    "base_fig.update_layout(title_text='FIFA World Cup Wins By the Country', geo=dict(projection_type='equirectangular'))\n",
    "\n",
    "#set the layout\n",
    "app.layout = html.Div([\n",
    "    html.H1(\"FIFA World Cup Dashboard\", style={'textAlign': 'center'}),#title header in the cetner\n",
    "    \n",
    "    #display graph set the id to choropleth\n",
    "    dcc.Graph(id='choropleth', figure=base_fig, style={'height': '60vh'}),\n",
    "    \n",
    "    #new div\n",
    "    html.Div([\n",
    "        html.Label(\"Select Country:\"),#label with the text Select Country\n",
    "        dcc.Dropdown(id='country-dropdown',options=[{'label': i, 'value': i} for i in wins['Country']]),#create a drop down menu with the list of countries\n",
    "        html.Div(id='country-output', style={'margin': '1rem'})#just to add spacing\n",
    "    ], style={'width': '48%', 'display': 'inline-block', 'padding': '1rem'}),\n",
    "    \n",
    "    html.Div([\n",
    "        html.Label(\"Select Year:\"),\n",
    "        dcc.Dropdown(id='year-dropdown',options=[{'label': str(i), 'value': i} for i in df['Year']]),#same thing for year\n",
    "        html.Div(id='year-output', style={'margin': '1rem'})\n",
    "    ], style={'width': '48%', 'display': 'inline-block', 'padding': '1rem'})\n",
    "])\n",
    "\n",
    "@app.callback(\n",
    "    Output('choropleth', 'figure'),#map changes\n",
    "    [Input('country-dropdown', 'value'),Input('year-dropdown', 'value')]#userinput\n",
    ")\n",
    "def update_map(selected_country, selected_year):\n",
    "    fig = go.Figure(base_fig)\n",
    "    \n",
    "    if selected_country:#if country is slected\n",
    "        #add a scattergeo to mark a country, and select the country by the country anme, and need the extra for some reason to remove the extra country name to repeat\n",
    "        fig.add_trace(go.Scattergeo(locations=[selected_country],locationmode='country names',hovertemplate=f\"<b>{selected_country}</b><extra></extra>\"))\n",
    "    \n",
    "    if selected_year:#if the year is selected\n",
    "        year_data = df[df['Year'] == selected_year]\n",
    "        winner = year_data['Winner'].values[0]\n",
    "        runner_up = year_data['Runner-up'].values[0]\n",
    "        #same thing as selected country\n",
    "        fig.add_trace(go.Scattergeo(locations=[winner],locationmode='country names', hovertemplate=f\"<b>Winner {selected_year}: {winner}</b><extra></extra>\"))\n",
    "        \n",
    "        fig.add_trace(go.Scattergeo(locations=[runner_up],locationmode='country names',hovertemplate=f\"<b>Runner-up {selected_year}: {runner_up}</b><extra></extra>\"))\n",
    "    \n",
    "    return fig\n",
    "\n",
    "@app.callback(\n",
    "    Output('country-output', 'children'),#add the country name to the div\n",
    "    [Input('country-dropdown', 'value')]#userinput\n",
    ")\n",
    "def update_country_info(country):\n",
    "    if not country:#if there is no country then return nothing\n",
    "        return \"\"\n",
    "    count = wins[wins['Country'] == country]['Wins'].values[0]#get the number of wins the slected country has\n",
    "    return html.Div([html.H3(country),html.P(f\"Total World Cup Wins: {count}\"),], style={'padding': '1rem'})\n",
    "\n",
    "\n",
    "@app.callback(\n",
    "    Output('year-output', 'children'),#add the year to the div\n",
    "    [Input('year-dropdown', 'value')]#userinput\n",
    ")\n",
    "def update_year_info(year):\n",
    "    if not year:#if there is no year then return nothing\n",
    "        return \"\"\n",
    "    info_on_year = df[df['Year'] == year]\n",
    "    return html.Div([\n",
    "        html.H3(f\"{year} World Cup\"),#add a header to the eyar-output year-output\n",
    "        html.P(f\"Host: {info_on_year['Host'].values[0]}\"),#get the host of the year\n",
    "        html.P(f\"Winner: {info_on_year['Winner'].values[0]}\"),#winner\n",
    "        html.P(f\"Runner-up: {info_on_year['Runner-up'].values[0]}\"),#and the runner up\n",
    "    ], style={'padding': '1rem'})\n",
    "\n",
    "if __name__ == '__main__':\n",
    "    app.run(debug=True)"
   ]
  }
 ],
 "metadata": {
  "kernelspec": {
   "display_name": "pytorch",
   "language": "python",
   "name": "python3"
  },
  "language_info": {
   "codemirror_mode": {
    "name": "ipython",
    "version": 3
   },
   "file_extension": ".py",
   "mimetype": "text/x-python",
   "name": "python",
   "nbconvert_exporter": "python",
   "pygments_lexer": "ipython3",
   "version": "3.12.4"
  }
 },
 "nbformat": 4,
 "nbformat_minor": 2
}
